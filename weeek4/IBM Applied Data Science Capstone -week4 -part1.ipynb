{
 "cells": [
  {
   "cell_type": "markdown",
   "metadata": {},
   "source": [
    "# IBM Applied Data Science Capstone "
   ]
  },
  {
   "cell_type": "markdown",
   "metadata": {},
   "source": [
    "## Week 4"
   ]
  },
  {
   "cell_type": "markdown",
   "metadata": {},
   "source": [
    "## Introduction\n",
    "\n",
    "When you come to Shanghai, you must visit the French concession, a variety of garden houses, tall plane trees on both sides of the road, and cafes and bars hidden in every corner. However, only a few well-known streets are known to everyone, and other streets with similar styles may not be known to everyone. Therefore, by clustering similar streets, more tourism information can be provided for tourists"
   ]
  },
  {
   "cell_type": "markdown",
   "metadata": {},
   "source": [
    "## Data\n",
    "\n",
    "To consider the problem we can list the datas as below:\n",
    "\n",
    "- List of neighbourhoods in Shanghai. This defines the scope of this project.\n",
    "- Latitude and longitude coordinates of those neighbourhoods. This is required in order to plot the map and also to get the venue data\n",
    "- Venue data, particularly data related to shopping malls. We will use this data to perform clustering on the neighbourhoods\n",
    "\n",
    "**Sources of data and methods to extract them:**\n",
    "Shanghai civil affairs bureau page contains a list of neighbourhoods in Shanghai, with a total of 106 neighbourhoods. We will use web scraping techniques to extract the data from the, with the help of Python requests and beautifulsoup packages. Then we will get the geographical coordinates of the neighbourhoods using Python Geocoder package which will give us the latitude and longitude coordinates of the neighbourhoods. __(web scraping)__\n",
    "\n",
    "After that, we will use Foursquare API to get the venue data for those neighbourhoods.  __(working with API)__\n",
    "\n",
    "Foursquare API will provide many categories of the venue data in order to help us to solve problem put forward\n",
    "__(data cleaning, data wrangling, to machine learningand map visualization)__"
   ]
  }
 ],
 "metadata": {
  "kernelspec": {
   "display_name": "Python 3",
   "language": "python",
   "name": "python3"
  },
  "language_info": {
   "codemirror_mode": {
    "name": "ipython",
    "version": 3
   },
   "file_extension": ".py",
   "mimetype": "text/x-python",
   "name": "python",
   "nbconvert_exporter": "python",
   "pygments_lexer": "ipython3",
   "version": "3.7.4"
  }
 },
 "nbformat": 4,
 "nbformat_minor": 2
}
